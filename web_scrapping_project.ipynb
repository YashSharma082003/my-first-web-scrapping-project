{
 "cells": [
  {
   "attachments": {},
   "cell_type": "markdown",
   "metadata": {},
   "source": [
    "##### INSTALL AND IMPORT REQUIRED LIBRARIES FOR WEB SCRAPING"
   ]
  },
  {
   "cell_type": "code",
   "execution_count": 1,
   "metadata": {},
   "outputs": [
    {
     "name": "stdout",
     "output_type": "stream",
     "text": [
      "Requirement already satisfied: requests in c:\\users\\asus\\appdata\\local\\programs\\python\\python311\\lib\\site-packages (2.28.2)\n",
      "Requirement already satisfied: charset-normalizer<4,>=2 in c:\\users\\asus\\appdata\\local\\programs\\python\\python311\\lib\\site-packages (from requests) (3.0.1)\n",
      "Requirement already satisfied: idna<4,>=2.5 in c:\\users\\asus\\appdata\\local\\programs\\python\\python311\\lib\\site-packages (from requests) (3.4)\n",
      "Requirement already satisfied: urllib3<1.27,>=1.21.1 in c:\\users\\asus\\appdata\\local\\programs\\python\\python311\\lib\\site-packages (from requests) (1.26.13)\n",
      "Requirement already satisfied: certifi>=2017.4.17 in c:\\users\\asus\\appdata\\local\\programs\\python\\python311\\lib\\site-packages (from requests) (2022.12.7)\n",
      "Requirement already satisfied: BeautifulSoup4 in c:\\users\\asus\\appdata\\local\\programs\\python\\python311\\lib\\site-packages (4.11.1)\n",
      "Requirement already satisfied: soupsieve>1.2 in c:\\users\\asus\\appdata\\local\\programs\\python\\python311\\lib\\site-packages (from BeautifulSoup4) (2.3.2.post1)\n"
     ]
    }
   ],
   "source": [
    "!pip install requests \n",
    "!pip install BeautifulSoup4"
   ]
  },
  {
   "cell_type": "code",
   "execution_count": 2,
   "metadata": {},
   "outputs": [],
   "source": [
    "import pandas as pd\n",
    "import requests\n",
    "from bs4 import BeautifulSoup"
   ]
  },
  {
   "attachments": {},
   "cell_type": "markdown",
   "metadata": {},
   "source": [
    "Create a variable of link for sending request"
   ]
  },
  {
   "cell_type": "code",
   "execution_count": 3,
   "metadata": {},
   "outputs": [],
   "source": [
    "link = \"https://www.imdb.com/chart/top/?ref_=nv_mv_250\""
   ]
  },
  {
   "attachments": {},
   "cell_type": "markdown",
   "metadata": {},
   "source": [
    "Sending request to the link for getting the HTML File."
   ]
  },
  {
   "cell_type": "code",
   "execution_count": 4,
   "metadata": {},
   "outputs": [],
   "source": [
    "response = requests.get(link)"
   ]
  },
  {
   "attachments": {},
   "cell_type": "markdown",
   "metadata": {},
   "source": [
    "Check HTTP Status Code "
   ]
  },
  {
   "cell_type": "code",
   "execution_count": 5,
   "metadata": {},
   "outputs": [
    {
     "data": {
      "text/plain": [
       "200"
      ]
     },
     "execution_count": 5,
     "metadata": {},
     "output_type": "execute_result"
    }
   ],
   "source": [
    "response.status_code"
   ]
  },
  {
   "cell_type": "code",
   "execution_count": 6,
   "metadata": {},
   "outputs": [
    {
     "data": {
      "text/plain": [
       "593034"
      ]
     },
     "execution_count": 6,
     "metadata": {},
     "output_type": "execute_result"
    }
   ],
   "source": [
    "len(response.text)"
   ]
  },
  {
   "attachments": {},
   "cell_type": "markdown",
   "metadata": {},
   "source": [
    "Parse the HTML file"
   ]
  },
  {
   "cell_type": "code",
   "execution_count": 7,
   "metadata": {},
   "outputs": [],
   "source": [
    "doc = BeautifulSoup(response.text,'html.parser')"
   ]
  },
  {
   "cell_type": "code",
   "execution_count": 8,
   "metadata": {},
   "outputs": [
    {
     "data": {
      "text/plain": [
       "'The Shawshank Redemption'"
      ]
     },
     "execution_count": 8,
     "metadata": {},
     "output_type": "execute_result"
    }
   ],
   "source": [
    "td_name_tag = doc.find_all('td',class_ = \"titleColumn\")\n",
    "names = td_name_tag[0].a.text\n",
    "names"
   ]
  },
  {
   "cell_type": "code",
   "execution_count": 9,
   "metadata": {},
   "outputs": [
    {
     "data": {
      "text/plain": [
       "'1994'"
      ]
     },
     "execution_count": 9,
     "metadata": {},
     "output_type": "execute_result"
    }
   ],
   "source": [
    "td_year_tag = doc.find_all('span',class_ = \"secondaryInfo\")\n",
    "release_year = td_year_tag[0].text.strip('()')\n",
    "release_year"
   ]
  },
  {
   "cell_type": "code",
   "execution_count": 10,
   "metadata": {},
   "outputs": [
    {
     "data": {
      "text/plain": [
       "'9.2'"
      ]
     },
     "execution_count": 10,
     "metadata": {},
     "output_type": "execute_result"
    }
   ],
   "source": [
    "td_rating_tag = doc.find_all('td',class_ = \"ratingColumn imdbRating\")\n",
    "rating = td_rating_tag[0].text.strip()\n",
    "rating"
   ]
  },
  {
   "attachments": {},
   "cell_type": "markdown",
   "metadata": {},
   "source": [
    "Getting name of imdb top 250 movies :"
   ]
  },
  {
   "cell_type": "code",
   "execution_count": 11,
   "metadata": {},
   "outputs": [
    {
     "name": "stdout",
     "output_type": "stream",
     "text": [
      "['The Shawshank Redemption', 'The Godfather', 'The Dark Knight', 'The Godfather Part II', '12 Angry Men', \"Schindler's List\", 'The Lord of the Rings: The Return of the King', 'Pulp Fiction', 'The Lord of the Rings: The Fellowship of the Ring', 'Il buono, il brutto, il cattivo', 'Forrest Gump', 'Fight Club', 'The Lord of the Rings: The Two Towers', 'Inception', 'The Empire Strikes Back', 'The Matrix', 'GoodFellas', \"One Flew Over the Cuckoo's Nest\", 'Se7en', 'Shichinin no samurai', \"It's a Wonderful Life\", 'The Silence of the Lambs', 'Cidade de Deus', 'Saving Private Ryan', 'La vita è bella', 'Interstellar', 'The Green Mile', 'Star Wars', 'Terminator 2: Judgment Day', 'Back to the Future', 'Sen to Chihiro no kamikakushi', 'The Pianist', 'Psycho', 'Gisaengchung', 'Léon', 'The Lion King', 'Gladiator', 'American History X', 'The Departed', 'The Usual Suspects', 'The Prestige', 'Whiplash', 'Casablanca', 'Seppuku', 'Hotaru no haka', 'The Intouchables', 'Modern Times', 'Once Upon a Time in the West', 'Rear Window', 'Nuovo Cinema Paradiso', 'Alien', 'City Lights', 'Apocalypse Now', 'Memento', 'Django Unchained', 'Raiders of the Lost Ark', 'WALL·E', 'The Lives of Others', 'Sunset Blvd.', 'Paths of Glory', 'The Shining', 'The Great Dictator', 'Avengers: Infinity War', 'Witness for the Prosecution', 'Aliens', 'Spider-Man: Into the Spider-Verse', 'American Beauty', 'Dr. Strangelove or: How I Learned to Stop Worrying and Love the Bomb', 'The Dark Knight Rises', 'Oldeuboi', 'Inglourious Basterds', 'Amadeus', 'Coco', 'Joker', 'Toy Story', 'Braveheart', 'Das Boot', 'Avengers: Endgame', 'Mononoke-hime', 'Once Upon a Time in America', 'Good Will Hunting', 'Kimi no Na wa.', 'Requiem for a Dream', '3 Idiots', \"Singin' in the Rain\", 'Toy Story 3', 'Tengoku to jigoku', 'Capharnaüm', 'Star Wars: Episode VI - Return of the Jedi', 'Eternal Sunshine of the Spotless Mind', '2001: A Space Odyssey', 'Reservoir Dogs', 'Jagten', 'Idi i smotri', 'Citizen Kane', 'Top Gun: Maverick', 'Lawrence of Arabia', 'M - Eine Stadt sucht einen Mörder', 'North by Northwest', 'Vertigo', \"Le fabuleux destin d'Amélie Poulain\", 'The Apartment', 'Ikiru', 'A Clockwork Orange', 'Double Indemnity', 'Full Metal Jacket', 'Scarface', 'Hamilton', 'To Kill a Mockingbird', 'Incendies', 'The Sting', 'Heat', 'Up', 'Jodaeiye Nader az Simin', 'Taxi Driver', 'Metropolis', 'L.A. Confidential', 'Die Hard', 'Snatch', 'Indiana Jones and the Last Crusade', 'Ladri di biciclette', 'Taare Zameen Par', '1917', 'Der Untergang', 'Per qualche dollaro in più', 'Dangal', 'Batman Begins', 'The Kid', 'Some Like It Hot', 'The Father', 'All About Eve', 'Green Book', 'The Wolf of Wall Street', 'Judgment at Nuremberg', 'Casino', 'Ran', \"Pan's Labyrinth\", 'Unforgiven', 'The Truman Show', 'There Will Be Blood', 'The Sixth Sense', 'A Beautiful Mind', 'Shutter Island', 'Yôjinbô', 'Jurassic Park', 'The Treasure of the Sierra Madre', 'Monty Python and the Holy Grail', 'Spider-Man: No Way Home', 'The Great Escape', 'Rashômon', 'No Country for Old Men', 'Kill Bill: Vol. 1', 'The Thing', 'Finding Nemo', 'The Elephant Man', 'Chinatown', 'Raging Bull', 'V for Vendetta', 'Gone with the Wind', 'Lock, Stock and Two Smoking Barrels', 'Inside Out', 'Dial M for Murder', 'El secreto de sus ojos', 'Hauru no ugoku shiro', 'Three Billboards Outside Ebbing, Missouri', 'The Bridge on the River Kwai', 'Trainspotting', 'Prisoners', 'Warrior', 'Fargo', 'Gran Torino', 'Tonari no Totoro', 'Catch Me If You Can', 'Million Dollar Baby', 'Bacheha-Ye aseman', 'Blade Runner', 'The Gold Rush', 'Before Sunrise', '12 Years a Slave', 'On the Waterfront', 'Harry Potter and the Deathly Hallows - Part 2', 'Klaus', 'Ben-Hur', 'Gone Girl', 'Smultronstället', 'The Grand Budapest Hotel', 'The General', 'The Third Man', 'In the Name of the Father', 'The Deer Hunter', 'Barry Lyndon', 'Le salaire de la peur', 'Hacksaw Ridge', 'Salinui chueok', 'Mr. Smith Goes to Washington', 'Sherlock Jr.', 'Relatos salvajes', 'Mad Max: Fury Road', 'Det sjunde inseglet', 'Mary and Max.', 'Room', 'How to Train Your Dragon', 'Monsters, Inc.', 'Jaws', 'The Big Lebowski', 'Dead Poets Society', 'Tôkyô monogatari', \"La passion de Jeanne d'Arc\", 'Hotel Rwanda', 'Ford v Ferrari', 'Rocky', 'Platoon', 'Spotlight', 'Ratatouille', 'The Terminator', 'Stand by Me', 'Logan', 'Rush', 'Network', 'Pather Panchali', 'Into the Wild', 'Before Sunset', 'The Wizard of Oz', 'Groundhog Day', 'The Best Years of Our Lives', 'The Exorcist', 'The Incredibles', 'To Be or Not to Be', 'La battaglia di Algeri', 'La haine', \"Hachi: A Dog's Tale\", 'Pirates of the Caribbean: The Curse of the Black Pearl', 'Babam ve Oglum', 'The Grapes of Wrath', 'Jai Bhim', 'Amores perros', 'Rebecca', 'Cool Hand Luke', 'Ah-ga-ssi', 'Les quatre cents coups', 'The Sound of Music', 'It Happened One Night', 'Persona', 'Life of Brian', 'The Iron Giant', 'Dersu Uzala', 'The Help', 'Aladdin', 'Gandhi', 'Du rififi chez les hommes']\n"
     ]
    }
   ],
   "source": [
    "movies_name = []\n",
    "\n",
    "for tag in td_name_tag:\n",
    "    movies_name.append(tag.a.text)\n",
    "\n",
    "print(movies_name)"
   ]
  },
  {
   "attachments": {},
   "cell_type": "markdown",
   "metadata": {},
   "source": [
    "Getting year of imdb top 250 movies :"
   ]
  },
  {
   "cell_type": "code",
   "execution_count": 12,
   "metadata": {},
   "outputs": [
    {
     "name": "stdout",
     "output_type": "stream",
     "text": [
      "['1994', '1972', '2008', '1974', '1957', '1993', '2003', '1994', '2001', '1966', '1994', '1999', '2002', '2010', '1980', '1999', '1990', '1975', '1995', '1954', '1946', '1991', '2002', '1998', '1997', '2014', '1999', '1977', '1991', '1985', '2001', '2002', '1960', '2019', '1994', '1994', '2000', '1998', '2006', '1995', '2006', '2014', '1942', '1962', '1988', '2011', '1936', '1968', '1954', '1988', '1979', '1931', '1979', '2000', '2012', '1981', '2008', '2006', '1950', '1957', '1980', '1940', '2018', '1957', '1986', '2018', '1999', '1964', '2012', '2003', '2009', '1984', '2017', '2019', '1995', '1995', '1981', '2019', '1997', '1984', '1997', '2016', '2000', '2009', '1952', '2010', '1963', '2018', '1983', '2004', '1968', '1992', '2012', '1985', '1941', '2022', '1962', '1931', '1959', '1958', '2001', '1960', '1952', '1971', '1944', '1987', '1983', '2020', '1962', '2010', '1973', '1995', '2009', '2011', '1976', '1927', '1997', '1988', '2000', '1989', '1948', '2007', '2019', '2004', '1965', '2016', '2005', '1921', '1959', '2020', '1950', '2018', '2013', '1961', '1995', '1985', '2006', '1992', '1998', '2007', '1999', '2001', '2010', '1961', '1993', '1948', '1975', '2021', '1963', '1950', '2007', '2003', '1982', '2003', '1980', '1974', '1980', '2005', '1939', '1998', '2015', '1954', '2009', '2004', '2017', '1957', '1996', '2013', '2011', '1996', '2008', '1988', '2002', '2004', '1997', '1982', '1925', '1995', '2013', '1954', '2011', '2019', '1959', '2014', '1957', '2014', '1926', '1949', '1993', '1978', '1975', '1953', '2016', '2003', '1939', '1924', '2014', '2015', '1957', '2009', '2015', '2010', '2001', '1975', '1998', '1989', '1953', '1928', '2004', '2019', '1976', '1986', '2015', '2007', '1984', '1986', '2017', '2013', '1976', '1955', '2007', '2004', '1939', '1993', '1946', '1973', '2004', '1942', '1966', '1995', '2009', '2003', '2005', '1940', '2021', '2000', '1940', '1967', '2016', '1959', '1965', '1934', '1966', '1979', '1999', '1975', '2011', '1992', '1982', '1955']\n"
     ]
    }
   ],
   "source": [
    "year = []\n",
    "\n",
    "for tag in td_year_tag:\n",
    "    year.append(tag.text.strip('()'))\n",
    "\n",
    "print(year)"
   ]
  },
  {
   "attachments": {},
   "cell_type": "markdown",
   "metadata": {},
   "source": [
    "Getting rating of imdb top 250 movies :"
   ]
  },
  {
   "cell_type": "code",
   "execution_count": 13,
   "metadata": {},
   "outputs": [
    {
     "name": "stdout",
     "output_type": "stream",
     "text": [
      "['9.2', '9.2', '9.0', '9.0', '9.0', '8.9', '8.9', '8.8', '8.8', '8.8', '8.8', '8.7', '8.7', '8.7', '8.7', '8.7', '8.7', '8.6', '8.6', '8.6', '8.6', '8.6', '8.6', '8.6', '8.6', '8.6', '8.6', '8.5', '8.5', '8.5', '8.5', '8.5', '8.5', '8.5', '8.5', '8.5', '8.5', '8.5', '8.5', '8.5', '8.5', '8.5', '8.5', '8.5', '8.5', '8.5', '8.4', '8.4', '8.4', '8.4', '8.4', '8.4', '8.4', '8.4', '8.4', '8.4', '8.4', '8.4', '8.4', '8.4', '8.4', '8.4', '8.4', '8.4', '8.3', '8.3', '8.3', '8.3', '8.3', '8.3', '8.3', '8.3', '8.3', '8.3', '8.3', '8.3', '8.3', '8.3', '8.3', '8.3', '8.3', '8.3', '8.3', '8.3', '8.3', '8.3', '8.3', '8.3', '8.3', '8.3', '8.3', '8.3', '8.3', '8.3', '8.3', '8.3', '8.3', '8.3', '8.2', '8.2', '8.2', '8.2', '8.2', '8.2', '8.2', '8.2', '8.2', '8.2', '8.2', '8.2', '8.2', '8.2', '8.2', '8.2', '8.2', '8.2', '8.2', '8.2', '8.2', '8.2', '8.2', '8.2', '8.2', '8.2', '8.2', '8.2', '8.2', '8.2', '8.2', '8.2', '8.2', '8.2', '8.2', '8.2', '8.2', '8.2', '8.2', '8.2', '8.2', '8.2', '8.2', '8.2', '8.2', '8.1', '8.1', '8.1', '8.1', '8.1', '8.1', '8.1', '8.1', '8.1', '8.1', '8.1', '8.1', '8.1', '8.1', '8.1', '8.1', '8.1', '8.1', '8.1', '8.1', '8.1', '8.1', '8.1', '8.1', '8.1', '8.1', '8.1', '8.1', '8.1', '8.1', '8.1', '8.1', '8.1', '8.1', '8.1', '8.1', '8.1', '8.1', '8.1', '8.1', '8.1', '8.1', '8.1', '8.1', '8.1', '8.1', '8.1', '8.1', '8.1', '8.1', '8.1', '8.1', '8.1', '8.1', '8.1', '8.1', '8.1', '8.1', '8.1', '8.1', '8.1', '8.1', '8.1', '8.1', '8.1', '8.0', '8.0', '8.0', '8.0', '8.0', '8.0', '8.0', '8.0', '8.0', '8.0', '8.0', '8.0', '8.0', '8.0', '8.0', '8.0', '8.0', '8.0', '8.0', '8.0', '8.0', '8.0', '8.0', '8.0', '8.0', '8.0', '8.0', '8.0', '8.0', '8.0', '8.0', '8.0', '8.0', '8.0', '8.0', '8.0', '8.0', '8.0', '8.0', '8.0', '8.0', '8.0']\n"
     ]
    }
   ],
   "source": [
    "rating = []\n",
    "\n",
    "for tag in td_rating_tag:\n",
    "    rating.append(tag.text.strip())\n",
    "\n",
    "print(rating)"
   ]
  },
  {
   "attachments": {},
   "cell_type": "markdown",
   "metadata": {},
   "source": [
    "Create Dictionary "
   ]
  },
  {
   "cell_type": "code",
   "execution_count": 14,
   "metadata": {},
   "outputs": [],
   "source": [
    "dict = {\n",
    "    'movie_name' : movies_name,\n",
    "    'release_year' : year,\n",
    "    'rating' : rating\n",
    "}"
   ]
  },
  {
   "attachments": {},
   "cell_type": "markdown",
   "metadata": {},
   "source": [
    "Convert Dictionary to dataframe :"
   ]
  },
  {
   "cell_type": "code",
   "execution_count": 15,
   "metadata": {},
   "outputs": [
    {
     "data": {
      "text/html": [
       "<div>\n",
       "<style scoped>\n",
       "    .dataframe tbody tr th:only-of-type {\n",
       "        vertical-align: middle;\n",
       "    }\n",
       "\n",
       "    .dataframe tbody tr th {\n",
       "        vertical-align: top;\n",
       "    }\n",
       "\n",
       "    .dataframe thead th {\n",
       "        text-align: right;\n",
       "    }\n",
       "</style>\n",
       "<table border=\"1\" class=\"dataframe\">\n",
       "  <thead>\n",
       "    <tr style=\"text-align: right;\">\n",
       "      <th></th>\n",
       "      <th>movie_name</th>\n",
       "      <th>release_year</th>\n",
       "      <th>rating</th>\n",
       "    </tr>\n",
       "  </thead>\n",
       "  <tbody>\n",
       "    <tr>\n",
       "      <th>0</th>\n",
       "      <td>The Shawshank Redemption</td>\n",
       "      <td>1994</td>\n",
       "      <td>9.2</td>\n",
       "    </tr>\n",
       "    <tr>\n",
       "      <th>1</th>\n",
       "      <td>The Godfather</td>\n",
       "      <td>1972</td>\n",
       "      <td>9.2</td>\n",
       "    </tr>\n",
       "    <tr>\n",
       "      <th>2</th>\n",
       "      <td>The Dark Knight</td>\n",
       "      <td>2008</td>\n",
       "      <td>9.0</td>\n",
       "    </tr>\n",
       "    <tr>\n",
       "      <th>3</th>\n",
       "      <td>The Godfather Part II</td>\n",
       "      <td>1974</td>\n",
       "      <td>9.0</td>\n",
       "    </tr>\n",
       "    <tr>\n",
       "      <th>4</th>\n",
       "      <td>12 Angry Men</td>\n",
       "      <td>1957</td>\n",
       "      <td>9.0</td>\n",
       "    </tr>\n",
       "    <tr>\n",
       "      <th>...</th>\n",
       "      <td>...</td>\n",
       "      <td>...</td>\n",
       "      <td>...</td>\n",
       "    </tr>\n",
       "    <tr>\n",
       "      <th>245</th>\n",
       "      <td>Dersu Uzala</td>\n",
       "      <td>1975</td>\n",
       "      <td>8.0</td>\n",
       "    </tr>\n",
       "    <tr>\n",
       "      <th>246</th>\n",
       "      <td>The Help</td>\n",
       "      <td>2011</td>\n",
       "      <td>8.0</td>\n",
       "    </tr>\n",
       "    <tr>\n",
       "      <th>247</th>\n",
       "      <td>Aladdin</td>\n",
       "      <td>1992</td>\n",
       "      <td>8.0</td>\n",
       "    </tr>\n",
       "    <tr>\n",
       "      <th>248</th>\n",
       "      <td>Gandhi</td>\n",
       "      <td>1982</td>\n",
       "      <td>8.0</td>\n",
       "    </tr>\n",
       "    <tr>\n",
       "      <th>249</th>\n",
       "      <td>Du rififi chez les hommes</td>\n",
       "      <td>1955</td>\n",
       "      <td>8.0</td>\n",
       "    </tr>\n",
       "  </tbody>\n",
       "</table>\n",
       "<p>250 rows × 3 columns</p>\n",
       "</div>"
      ],
      "text/plain": [
       "                    movie_name release_year rating\n",
       "0     The Shawshank Redemption         1994    9.2\n",
       "1                The Godfather         1972    9.2\n",
       "2              The Dark Knight         2008    9.0\n",
       "3        The Godfather Part II         1974    9.0\n",
       "4                 12 Angry Men         1957    9.0\n",
       "..                         ...          ...    ...\n",
       "245                Dersu Uzala         1975    8.0\n",
       "246                   The Help         2011    8.0\n",
       "247                    Aladdin         1992    8.0\n",
       "248                     Gandhi         1982    8.0\n",
       "249  Du rififi chez les hommes         1955    8.0\n",
       "\n",
       "[250 rows x 3 columns]"
      ]
     },
     "execution_count": 15,
     "metadata": {},
     "output_type": "execute_result"
    }
   ],
   "source": [
    "IMDB = pd.DataFrame(dict)\n",
    "IMDB"
   ]
  },
  {
   "attachments": {},
   "cell_type": "markdown",
   "metadata": {},
   "source": [
    "Download Dataframe as a CSV file "
   ]
  },
  {
   "cell_type": "code",
   "execution_count": 16,
   "metadata": {},
   "outputs": [],
   "source": [
    "IMDB.to_csv('IMDB_top_250_movies.csv',index=False)"
   ]
  }
 ],
 "metadata": {
  "kernelspec": {
   "display_name": "Python 3",
   "language": "python",
   "name": "python3"
  },
  "language_info": {
   "codemirror_mode": {
    "name": "ipython",
    "version": 3
   },
   "file_extension": ".py",
   "mimetype": "text/x-python",
   "name": "python",
   "nbconvert_exporter": "python",
   "pygments_lexer": "ipython3",
   "version": "3.11.1"
  },
  "orig_nbformat": 4,
  "vscode": {
   "interpreter": {
    "hash": "64924d34f5c95f261818ee0e41d58b43741dcf0b72677c10b726c1fe86046c0c"
   }
  }
 },
 "nbformat": 4,
 "nbformat_minor": 2
}
